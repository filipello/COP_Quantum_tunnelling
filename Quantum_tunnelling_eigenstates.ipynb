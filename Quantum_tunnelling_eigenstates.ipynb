{
 "cells": [
  {
   "cell_type": "code",
   "execution_count": 1,
   "id": "a74a0609",
   "metadata": {},
   "outputs": [],
   "source": [
    "import numpy as np\n",
    "x = np.linspace(-200,200,5000)\n",
    "deltax = x[1]-x[0]\n",
    "\n",
    "%matplotlib tk\n",
    "\n",
    "from matplotlib.animation import FuncAnimation\n",
    "import matplotlib.pyplot as plt"
   ]
  },
  {
   "cell_type": "code",
   "execution_count": 7,
   "id": "8e0f590d",
   "metadata": {},
   "outputs": [],
   "source": [
    "def norm(phi):\n",
    "    norm = np.sum(np.square(np.abs(phi)))*deltax\n",
    "    return phi/np.sqrt(norm)\n",
    "\n",
    "\n",
    "def complex_plot(x,y):\n",
    "    real = np.real(y)\n",
    "    imag = np.imag(y)\n",
    "    a,*_ = plt.plot(x,real, ':', label='Re')\n",
    "    b,*_ = plt.plot(x,imag, ':', label='Im')\n",
    "    plt.xlim(-2,2)\n",
    "    p,*_ = plt.plot(x,np.abs(y),label='$\\sqrt{P}$')\n",
    "    return a,b,p\n",
    "    \n",
    "def wave_packet(pos=0,mom=0,sigma=0.2):\n",
    "\n",
    "    return (2 * np.pi * np.square(sigma))**(-1/4) * np.exp(1j*mom*x)*np.exp(-np.square((x-pos)/(2*sigma)),dtype=complex)\n",
    "#     return  np.exp(1j*mom*x)\n",
    "\n",
    "\n",
    "\n",
    "\n",
    "\n",
    "def d_dxdx(phi,x=x):\n",
    "    dphi_dxdx = -2*phi\n",
    "    dphi_dxdx[:-1] += phi[1:]\n",
    "    dphi_dxdx[1:] += phi[:-1]\n",
    "    return dphi_dxdx/np.square(deltax)\n",
    "\n",
    "def d_dt(phi,h=1,m=1,V=0):\n",
    "    return 1j*h/2/m * d_dxdx(phi) - 1j*V*phi/h\n",
    "\n",
    "\n",
    "def rk4(phi, dt, **kwargs):\n",
    "    k1 = d_dt(phi, **kwargs)\n",
    "    k2 = d_dt(phi+dt/2*k1, **kwargs)\n",
    "    k3 = d_dt(phi+dt/2*k2, **kwargs)\n",
    "    k4 = d_dt(phi+dt*k3, **kwargs)\n",
    "    return phi + dt/6*(k1+2*k2+2*k3+k4)\n",
    "\n",
    "\n",
    "def simulate(phi_sim, \n",
    "             V=0, \n",
    "             steps=100000, \n",
    "             dt=0.005, \n",
    "             orthogonal_to = 0, \n",
    "             save_every=1000):\n",
    "    simulation_steps = np.zeros((int(steps/save_every), 5000), dtype = complex)\n",
    "    l = 0\n",
    "    for i in range(steps):\n",
    "        phi_sim = rk4(phi_sim,dt,V=V)\n",
    "        if np.sum(orthogonal_to) != 0:\n",
    "            phi_sim = phi_sim - np.sum(np.conjugate(orthogonal_to)*phi_sim)*deltax*orthogonal_to\n",
    "        phi_sim = norm(phi_sim)\n",
    "        if i % save_every == 0:\n",
    "            simulation_steps[l,:] = phi_sim\n",
    "            l += 1\n",
    "    return simulation_steps\n",
    "\n",
    "def box_init(V_0, a_begin, a_end):\n",
    "        plt.gcf().axes[0].axvspan(a_begin, a_end, alpha=0.2, color='orange', label = r'$V_0$ = {}'.format(V_0))\n",
    "        plt.xlim(-50,50)\n",
    "        plt.ylim(-2,2)\n",
    "\n",
    "        \n",
    "def pot_init():\n",
    "    plt.fill_between(x,(strange_potential(x)),-2,color='orange',alpha=0.2)\n",
    "\n",
    "def animate(simulation_steps, V_0, a_begin, a_end, init_func = None):\n",
    "    fig = plt.figure()\n",
    "    re,im,prob = complex_plot(x,simulation_steps[0])\n",
    "    plt.xlim(-50,50)\n",
    "    plt.ylim(-2,2)\n",
    "    plt.xlabel('Position')\n",
    "    plt.ylabel(r'$\\psi$')\n",
    "    if init_func:\n",
    "        init_func()\n",
    "    \n",
    "    \n",
    "\n",
    "    def animation(frame):\n",
    "        prob.set_data((x, np.abs(simulation_steps[frame])))\n",
    "        re.set_data((x, np.real(simulation_steps[frame])))\n",
    "        im.set_data((x, np.imag(simulation_steps[frame])))\n",
    "        return prob,re,im\n",
    "\n",
    "    anim = FuncAnimation(fig, animation, frames=int(len(simulation_steps)), init_func = pot_init(), interval = 50)\n",
    "    plt.show()\n",
    "    plt.legend()\n",
    "    \n",
    "\n",
    "    return anim"
   ]
  },
  {
   "cell_type": "code",
   "execution_count": 3,
   "id": "52a72f82",
   "metadata": {},
   "outputs": [],
   "source": [
    "#parameters\n",
    "\n",
    "V_0 = [1,2,3,4,5]\n",
    "a_begin = 1.0\n",
    "a_end = 2.0\n",
    "width = a_end - a_begin\n",
    "# a_end = [1.5,1.8 , 2.0, 3.0, 4.0]\n",
    "# width = [x -a_begin for x in a_end]\n",
    "momentum = 1.2\n",
    "variance = 0.8\n",
    "mass = 1\n",
    "init_pos = 0"
   ]
  },
  {
   "cell_type": "code",
   "execution_count": 5,
   "id": "9c47e9d7",
   "metadata": {},
   "outputs": [
    {
     "data": {
      "text/plain": [
       "<matplotlib.animation.FuncAnimation at 0x204c490b790>"
      ]
     },
     "execution_count": 5,
     "metadata": {},
     "output_type": "execute_result"
    }
   ],
   "source": [
    "# animating simulation\n",
    "\n",
    "def strange_potential(x):\n",
    "    a = 0.0001\n",
    "    b = 10\n",
    "    return np.exp(a*np.square(x))- b*np.exp(-a*np.square(x)) + b - 1\n",
    "\n",
    "potential = strange_potential(x)\n",
    "\n",
    "ground_state = simulate(wave_packet(pos = init_pos, mom = momentum, sigma = variance), dt=-1e-3j, V = potential, steps=60000,save_every=200)\n",
    "animate(ground_state, V_0, a_begin, a_end)"
   ]
  },
  {
   "cell_type": "code",
   "execution_count": 8,
   "id": "59f2eb1c",
   "metadata": {},
   "outputs": [
    {
     "data": {
      "text/plain": [
       "<matplotlib.animation.FuncAnimation at 0x204c38c7310>"
      ]
     },
     "execution_count": 8,
     "metadata": {},
     "output_type": "execute_result"
    }
   ],
   "source": [
    "ground_state_sim = simulate(ground_state[-1,:], V= potential, steps = 50000, save_every = 200)\n",
    "animate(ground_state_sim, V_0, a_begin, a_end)"
   ]
  },
  {
   "cell_type": "code",
   "execution_count": 11,
   "id": "e505f9a8",
   "metadata": {},
   "outputs": [
    {
     "data": {
      "text/plain": [
       "<matplotlib.animation.FuncAnimation at 0x204ce22b640>"
      ]
     },
     "execution_count": 11,
     "metadata": {},
     "output_type": "execute_result"
    }
   ],
   "source": [
    "phi = wave_packet(pos = init_pos, mom = momentum, sigma = variance)\n",
    "phi_1 = phi - np.sum(np.conjugate(ground_state[-1,:])*phi)*deltax*ground_state[-1,:]\n",
    "\n",
    "first_state = simulate(phi_1, dt=-1e-3j, orthogonal_to = ground_state[-1,:],V = potential, steps=80000,save_every=200)\n",
    "animate(first_state, V_0, a_begin, a_end)"
   ]
  },
  {
   "cell_type": "code",
   "execution_count": 12,
   "id": "49946990",
   "metadata": {},
   "outputs": [
    {
     "data": {
      "text/plain": [
       "<matplotlib.animation.FuncAnimation at 0x204ce216970>"
      ]
     },
     "execution_count": 12,
     "metadata": {},
     "output_type": "execute_result"
    }
   ],
   "source": [
    "first_state_sim = simulate(first_state[-1,:], V = potential, steps = 50000, save_every = 200)\n",
    "animate(first_state_sim, V_0, a_begin, a_end)"
   ]
  },
  {
   "cell_type": "code",
   "execution_count": null,
   "id": "ac4a3735",
   "metadata": {},
   "outputs": [],
   "source": []
  }
 ],
 "metadata": {
  "kernelspec": {
   "display_name": "Python 3 (ipykernel)",
   "language": "python",
   "name": "python3"
  },
  "language_info": {
   "codemirror_mode": {
    "name": "ipython",
    "version": 3
   },
   "file_extension": ".py",
   "mimetype": "text/x-python",
   "name": "python",
   "nbconvert_exporter": "python",
   "pygments_lexer": "ipython3",
   "version": "3.9.6"
  }
 },
 "nbformat": 4,
 "nbformat_minor": 5
}
