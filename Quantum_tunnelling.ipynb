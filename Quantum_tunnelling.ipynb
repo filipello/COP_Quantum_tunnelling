{
 "cells": [
  {
   "cell_type": "code",
   "execution_count": 1,
   "id": "a74a0609",
   "metadata": {},
   "outputs": [],
   "source": [
    "import numpy as np\n",
    "x = np.linspace(-10,10,5000)\n",
    "deltax = x[1]-x[0]"
   ]
  },
  {
   "cell_type": "code",
   "execution_count": 2,
   "id": "8e0f590d",
   "metadata": {},
   "outputs": [],
   "source": [
    "def norm(phi):\n",
    "    norm = np.sum(np.square(np.abs(phi)))*deltax\n",
    "    return phi/np.sqrt(norm)\n",
    "\n",
    "\n",
    "def complex_plot(x,y):\n",
    "    real = np.real(y)\n",
    "    imag = np.imag(y)\n",
    "    a,*_ = plt.plot(x,real, ':', label='Re')\n",
    "    b,*_ = plt.plot(x,imag, ':', label='Im')\n",
    "    plt.xlim(-2,2)\n",
    "    p,*_ = plt.plot(x,np.abs(y),label='$\\sqrt{P}$')\n",
    "    return a,b,p\n",
    "    \n",
    "def wave_packet(pos=0,mom=0,sigma=0.2):\n",
    "    return norm(np.exp(-1j*mom*x)*np.exp(-np.square(x-pos)/sigma/sigma,dtype=complex))\n",
    "\n",
    "\n",
    "\n",
    "def d_dxdx(phi,x=x):\n",
    "    dphi_dxdx = -2*phi\n",
    "    dphi_dxdx[:-1] += phi[1:]\n",
    "    dphi_dxdx[1:] += phi[:-1]\n",
    "    return dphi_dxdx/deltax\n",
    "\n",
    "def d_dt(phi,h=1,m=100,V=0):\n",
    "    return 1j*h/2/m * d_dxdx(phi) - 1j*V*phi/h\n",
    "\n",
    "\n",
    "def rk4(phi, dt, **kwargs):\n",
    "    k1 = d_dt(phi, **kwargs)\n",
    "    k2 = d_dt(phi+dt/2*k1, **kwargs)\n",
    "    k3 = d_dt(phi+dt/2*k2, **kwargs)\n",
    "    k4 = d_dt(phi+dt*k3, **kwargs)\n",
    "    return phi + dt/6*(k1+2*k2+2*k3+k4)\n",
    "\n",
    "\n",
    "def simulate(phi_sim, \n",
    "             V=0, \n",
    "             steps=100000, \n",
    "             dt=1e-1, \n",
    "             condition=None, \n",
    "             save_every=1000):\n",
    "    simulation_steps = np.zeros((int(steps/save_every), 5000), dtype = complex)\n",
    "    l = 0\n",
    "    for i in range(steps):\n",
    "        phi_sim = rk4(phi_sim,dt,V=V)\n",
    "#         if condition:\n",
    "#             phi_sim = condition(phi_sim)\n",
    "        phi_sim = norm(phi_sim)\n",
    "        if i % save_every == 0:\n",
    "            simulation_steps[l,:] = phi_sim\n",
    "            l += 1\n",
    "    return simulation_steps"
   ]
  },
  {
   "cell_type": "code",
   "execution_count": 3,
   "id": "abb9479b",
   "metadata": {},
   "outputs": [],
   "source": [
    "# sim_free = simulate(wave_packet(mom=-5),steps=100000,save_every=1000)"
   ]
  },
  {
   "cell_type": "code",
   "execution_count": 4,
   "id": "d3733079",
   "metadata": {},
   "outputs": [],
   "source": [
    "# print((sim_free))"
   ]
  },
  {
   "cell_type": "code",
   "execution_count": 5,
   "id": "aaada27e",
   "metadata": {},
   "outputs": [],
   "source": [
    "%matplotlib tk\n",
    "\n",
    "from matplotlib.animation import FuncAnimation\n",
    "import matplotlib.pyplot as plt\n",
    "\n",
    "def animate(simulation_steps,init_func=None):\n",
    "    fig = plt.figure()\n",
    "    re,im,prob = complex_plot(x,simulation_steps[0])\n",
    "    plt.xlim(-2,2)\n",
    "    plt.ylim(-2,2)\n",
    "    if init_func:\n",
    "        init_func()\n",
    "    plt.legend()\n",
    "    \n",
    "    def box_init():\n",
    "        plt.gcf().axes[0].axvspan(1, 1.2, alpha=0.2, color='orange')\n",
    "        plt.xlim(-2,4)\n",
    "        plt.ylim(-3,3)\n",
    "\n",
    "    def animate(frame):\n",
    "        prob.set_data((x, np.abs(simulation_steps[frame])))\n",
    "        re.set_data((x, np.real(simulation_steps[frame])))\n",
    "        im.set_data((x, np.imag(simulation_steps[frame])))\n",
    "        return prob,re,im\n",
    "\n",
    "    anim = FuncAnimation(fig, animate, frames=int(len(simulation_steps)), init_func = box_init(), interval=50)\n",
    "    plt.show()\n",
    "\n",
    "    return anim"
   ]
  },
  {
   "cell_type": "code",
   "execution_count": 6,
   "id": "83d72360",
   "metadata": {
    "scrolled": false
   },
   "outputs": [],
   "source": [
    "# animate(sim_free)"
   ]
  },
  {
   "cell_type": "code",
   "execution_count": 7,
   "id": "8fd905df",
   "metadata": {},
   "outputs": [],
   "source": [
    "box_potential = np.where((x>1)&(x<1.2),0.02,0)\n",
    "sim_box_mom = simulate(wave_packet(mom=-20),V=box_potential,steps=50000,save_every=1000)"
   ]
  },
  {
   "cell_type": "code",
   "execution_count": 8,
   "id": "9c47e9d7",
   "metadata": {},
   "outputs": [
    {
     "data": {
      "text/plain": [
       "<matplotlib.animation.FuncAnimation at 0x203711d1f70>"
      ]
     },
     "execution_count": 8,
     "metadata": {},
     "output_type": "execute_result"
    }
   ],
   "source": [
    "animate(sim_box_mom)"
   ]
  },
  {
   "cell_type": "code",
   "execution_count": 9,
   "id": "ceae04ad",
   "metadata": {},
   "outputs": [
    {
     "data": {
      "text/plain": [
       "0.005660456997527719"
      ]
     },
     "execution_count": 9,
     "metadata": {},
     "output_type": "execute_result"
    }
   ],
   "source": [
    "prob_before_barrier = np.sum(np.square(np.abs(sim_box_mom[-1,:])), where=(x>1.2))*deltax"
   ]
  },
  {
   "cell_type": "code",
   "execution_count": 10,
   "id": "a0a673e5",
   "metadata": {},
   "outputs": [
    {
     "data": {
      "text/plain": [
       "0.9943395430024725"
      ]
     },
     "execution_count": 10,
     "metadata": {},
     "output_type": "execute_result"
    }
   ],
   "source": [
    "prob_after_barrier = np.sum(np.square(np.abs(sim_box_mom[-1,:])), where=(x<1.2))*deltax"
   ]
  },
  {
   "cell_type": "code",
   "execution_count": null,
   "id": "01703bf3",
   "metadata": {},
   "outputs": [],
   "source": []
  }
 ],
 "metadata": {
  "kernelspec": {
   "display_name": "Python 3 (ipykernel)",
   "language": "python",
   "name": "python3"
  },
  "language_info": {
   "codemirror_mode": {
    "name": "ipython",
    "version": 3
   },
   "file_extension": ".py",
   "mimetype": "text/x-python",
   "name": "python",
   "nbconvert_exporter": "python",
   "pygments_lexer": "ipython3",
   "version": "3.9.6"
  }
 },
 "nbformat": 4,
 "nbformat_minor": 5
}
