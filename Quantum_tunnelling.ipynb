{
 "cells": [
  {
   "cell_type": "code",
   "execution_count": 1,
   "id": "a74a0609",
   "metadata": {},
   "outputs": [],
   "source": [
    "import numpy as np\n",
    "x = np.linspace(-200,200,5000)\n",
    "deltax = x[1]-x[0]\n",
    "\n",
    "%matplotlib tk\n",
    "\n",
    "from matplotlib.animation import FuncAnimation\n",
    "import matplotlib.pyplot as plt"
   ]
  },
  {
   "cell_type": "code",
   "execution_count": 2,
   "id": "8e0f590d",
   "metadata": {},
   "outputs": [],
   "source": [
    "def norm(phi):\n",
    "    norm = np.sum(np.square(np.abs(phi)))*deltax\n",
    "    return phi/np.sqrt(norm)\n",
    "\n",
    "\n",
    "def complex_plot(x,y):\n",
    "    real = np.real(y)\n",
    "    imag = np.imag(y)\n",
    "    a,*_ = plt.plot(x,real, ':', label='Re')\n",
    "    b,*_ = plt.plot(x,imag, ':', label='Im')\n",
    "    plt.xlim(-2,2)\n",
    "    p,*_ = plt.plot(x,np.abs(y),label='$\\sqrt{P}$')\n",
    "    return a,b,p\n",
    "    \n",
    "def wave_packet(pos=0,mom=0,sigma=0.2):\n",
    "\n",
    "    return (2 * np.pi * np.square(sigma))**(-1/4) * np.exp(1j*mom*x)*np.exp(-np.square((x-pos)/(2*sigma)),dtype=complex)\n",
    "#     return  np.exp(1j*mom*x)\n",
    "\n",
    "\n",
    "\n",
    "\n",
    "\n",
    "def d_dxdx(phi,x=x):\n",
    "    dphi_dxdx = -2*phi\n",
    "    dphi_dxdx[:-1] += phi[1:]\n",
    "    dphi_dxdx[1:] += phi[:-1]\n",
    "    return dphi_dxdx/np.square(deltax)\n",
    "\n",
    "def d_dt(phi,h=1,m=1,V=0):\n",
    "    return 1j*h/2/m * d_dxdx(phi) - 1j*V*phi/h\n",
    "\n",
    "\n",
    "def rk4(phi, dt, **kwargs):\n",
    "    k1 = d_dt(phi, **kwargs)\n",
    "    k2 = d_dt(phi+dt/2*k1, **kwargs)\n",
    "    k3 = d_dt(phi+dt/2*k2, **kwargs)\n",
    "    k4 = d_dt(phi+dt*k3, **kwargs)\n",
    "    return phi + dt/6*(k1+2*k2+2*k3+k4)\n",
    "\n",
    "\n",
    "def simulate(phi_sim, \n",
    "             V=0, \n",
    "             steps=100000, \n",
    "             dt=0.008, \n",
    "             condition=None, \n",
    "             save_every=1000):\n",
    "    simulation_steps = np.zeros((int(steps/save_every), 5000), dtype = complex)\n",
    "    l = 0\n",
    "    for i in range(steps):\n",
    "        phi_sim = rk4(phi_sim,dt,V=V)\n",
    "#         if condition:\n",
    "#             phi_sim = condition(phi_sim)\n",
    "#         phi_sim = norm(phi_sim)\n",
    "        if i % save_every == 0:\n",
    "            simulation_steps[l,:] = phi_sim\n",
    "            l += 1\n",
    "    return simulation_steps\n",
    "\n",
    "def box_init(V_0, a_begin, a_end):\n",
    "        plt.gcf().axes[0].axvspan(a_begin, a_end, alpha=0.2, color='orange', label = r'$V_0$ = {}'.format(V_0))\n",
    "        plt.xlim(-50,50)\n",
    "        plt.ylim(-2,2)\n",
    "\n",
    "\n",
    "def animate(simulation_steps, V_0, a_begin, a_end, init_func = None):\n",
    "    fig = plt.figure()\n",
    "    re,im,prob = complex_plot(x,simulation_steps[0])\n",
    "    plt.xlim(-50,50)\n",
    "    plt.ylim(-2,2)\n",
    "    plt.xlabel('Position')\n",
    "    plt.ylabel(r'$\\psi$')\n",
    "    if init_func:\n",
    "        init_func()\n",
    "    \n",
    "    \n",
    "\n",
    "    def animation(frame):\n",
    "        prob.set_data((x, np.abs(simulation_steps[frame])))\n",
    "        re.set_data((x, np.real(simulation_steps[frame])))\n",
    "        im.set_data((x, np.imag(simulation_steps[frame])))\n",
    "        return prob,re,im\n",
    "\n",
    "    anim = FuncAnimation(fig, animation, frames=int(len(simulation_steps)), init_func = box_init(V_0, a_begin, a_end), interval = 50)\n",
    "    plt.show()\n",
    "    plt.legend()\n",
    "    \n",
    "\n",
    "    return anim"
   ]
  },
  {
   "cell_type": "code",
   "execution_count": 3,
   "id": "52a72f82",
   "metadata": {},
   "outputs": [],
   "source": [
    "#parameters\n",
    "\n",
    "V_0 = [1, 1.5, 2, 2.5, 3]\n",
    "a_begin = 1.0\n",
    "a_end = 3.0\n",
    "width = a_end - a_begin\n",
    "momentum = 1.5\n",
    "variance = 0.5\n",
    "mass = 1\n",
    "init_pos = -20"
   ]
  },
  {
   "cell_type": "code",
   "execution_count": 5,
   "id": "8fd905df",
   "metadata": {},
   "outputs": [],
   "source": [
    "#trasmittibility as function of potential\n",
    "\n",
    "trasmiss = np.zeros((len(V_0)))\n",
    "for i in range(len(V_0)):\n",
    "    box_potential = np.where((x>a_begin)&(x<a_end),V_0[i],0)\n",
    "    sim_box_mom = simulate(wave_packet(pos = init_pos, mom = momentum, sigma = variance),V=box_potential,steps=20000,save_every=100)\n",
    "    trasmiss[i] = np.sum(np.square(np.abs(sim_box_mom[-1,:])), where=(x>a_end))*deltax"
   ]
  },
  {
   "cell_type": "code",
   "execution_count": 4,
   "id": "9c47e9d7",
   "metadata": {},
   "outputs": [],
   "source": [
    "#animating simulation\n",
    "\n",
    "# box_potential = np.where((x>a_begin)&(x<a_end),V_0,0)\n",
    "# sim_box_mom = simulate(wave_packet(pos = -20, mom = momentum, sigma = variance),V = box_potential, steps=10000,save_every=100)\n",
    "# animate(sim_box_mom, 0.01, a_begin, a_end)"
   ]
  },
  {
   "cell_type": "code",
   "execution_count": 6,
   "id": "01703bf3",
   "metadata": {},
   "outputs": [],
   "source": [
    "#calculating trasmitted and reflected wave\n",
    "\n",
    "# prob_before_barrier = np.sum(np.square(np.abs(sim_box_mom[-1,:])), where=(x<a_begin))*deltax\n",
    "# prob_after_barrier = np.sum(np.square(np.abs(sim_box_mom[-1,:])), where=(x>a_end))*deltax\n",
    "# print('trasmitted : ', prob_after_barrier)\n",
    "# print('reflected : ', prob_before_barrier)\n",
    "# print(prob_after_barrier + prob_before_barrier)"
   ]
  },
  {
   "cell_type": "code",
   "execution_count": 7,
   "id": "70fced85",
   "metadata": {},
   "outputs": [],
   "source": [
    "E = d_dxdx(wave_packet(pos = init_pos,mom = momentum, sigma= variance))/(2*mass)\n",
    "energy  = np.sum(np.abs(wave_packet(pos = init_pos,mom = momentum, sigma= variance) * E * np.conjugate(wave_packet(pos = init_pos,mom = momentum, sigma= variance))))*deltax\n",
    "\n",
    "V = np.linspace(1.01*energy,3.1, 100)\n",
    "\n",
    "a1 = np.square(V)/(4*energy*(V-energy))\n",
    "a2 = np.sinh(np.sqrt(2*mass*(V- energy)) * width)\n",
    "\n",
    "\n",
    "T = 1/(1 +  a1* np.square( a2 ) )\n",
    "T2 = np.exp(-2 * np.sqrt(2*mass* (V - energy)) * width)"
   ]
  },
  {
   "cell_type": "code",
   "execution_count": 14,
   "id": "6fdfa427",
   "metadata": {},
   "outputs": [
    {
     "data": {
      "text/plain": [
       "<matplotlib.legend.Legend at 0x1f5d9703d00>"
      ]
     },
     "execution_count": 14,
     "metadata": {},
     "output_type": "execute_result"
    }
   ],
   "source": [
    "plt.plot(V, T, label = 'theoretical')\n",
    "plt.scatter(V_0, trasmiss)\n",
    "plt.legend()"
   ]
  }
 ],
 "metadata": {
  "kernelspec": {
   "display_name": "Python 3 (ipykernel)",
   "language": "python",
   "name": "python3"
  },
  "language_info": {
   "codemirror_mode": {
    "name": "ipython",
    "version": 3
   },
   "file_extension": ".py",
   "mimetype": "text/x-python",
   "name": "python",
   "nbconvert_exporter": "python",
   "pygments_lexer": "ipython3",
   "version": "3.9.6"
  }
 },
 "nbformat": 4,
 "nbformat_minor": 5
}
